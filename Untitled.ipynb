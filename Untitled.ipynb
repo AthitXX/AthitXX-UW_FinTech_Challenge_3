{
 "cells": [
  {
   "cell_type": "code",
   "execution_count": 2,
   "id": "a4b6a794-113b-46d5-91e2-b4f8102890ba",
   "metadata": {},
   "outputs": [
    {
     "data": {
      "text/plain": [
       "close    12.288\n",
       "dtype: float64"
      ]
     },
     "execution_count": 2,
     "metadata": {},
     "output_type": "execute_result"
    }
   ],
   "source": [
    "import pandas as pd\n",
    "stock_abc = pd.DataFrame({'close' : [11.25, 11.98, 10.74, 11.16, 12.35, 12.87, 13.03, 13.14, 13.37, 12.99]})\n",
    "stock_abc.mean()"
   ]
  },
  {
   "cell_type": "code",
   "execution_count": 3,
   "id": "95efd174-20b0-4280-b6e2-9d06e83e7326",
   "metadata": {},
   "outputs": [
    {
     "data": {
      "text/plain": [
       "close    13.988\n",
       "dtype: float64"
      ]
     },
     "execution_count": 3,
     "metadata": {},
     "output_type": "execute_result"
    }
   ],
   "source": [
    "import pandas as pd\n",
    "stock_def = pd.DataFrame({'close' : [14.25, 15.98, 11.74, 13.16, 12.35, 14.87, 15.03, 16.14, 13.37, 12.99]})\n",
    "stock_def.mean()"
   ]
  },
  {
   "cell_type": "code",
   "execution_count": 4,
   "id": "80e2fe42-7b13-4366-af2b-e0b326e7738e",
   "metadata": {},
   "outputs": [],
   "source": [
    "import pandas as pd\n",
    "stocks = pd.DataFrame({\n",
    "    'stock_abc' : [17.89, 16.43, 16.25, 15.74, 15.36, 18.29, 18.00, 18.15, 18.30, 18.50],\n",
    "    'stock_def' : [124.37, 125.21, 125.75, 126.51, 127.25, 127.00, 127.10, 126.89, 126.99, 127.75],\n",
    "    'stock_efg' : [5.45, 5.50, 5.75, 5.10, 4.90, 4.75, 4.70, 4.80, 4.29, 4.33]\n",
    "})"
   ]
  },
  {
   "cell_type": "code",
   "execution_count": null,
   "id": "5d488cf9-61c1-4663-9ee3-1b581b5eda01",
   "metadata": {},
   "outputs": [],
   "source": []
  }
 ],
 "metadata": {
  "kernelspec": {
   "display_name": "Python 3",
   "language": "python",
   "name": "python3"
  },
  "language_info": {
   "codemirror_mode": {
    "name": "ipython",
    "version": 3
   },
   "file_extension": ".py",
   "mimetype": "text/x-python",
   "name": "python",
   "nbconvert_exporter": "python",
   "pygments_lexer": "ipython3",
   "version": "3.7.10"
  }
 },
 "nbformat": 4,
 "nbformat_minor": 5
}
